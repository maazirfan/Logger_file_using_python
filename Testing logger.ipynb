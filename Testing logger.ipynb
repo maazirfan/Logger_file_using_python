{
 "cells": [
  {
   "cell_type": "code",
   "execution_count": 41,
   "id": "8df52605",
   "metadata": {},
   "outputs": [],
   "source": [
    "import logging\n",
    "import time\n",
    "import datetime\n",
    "timestamp = datetime.datetime.now().strftime('%d_%m_%Y_%H_%M_%S')\n",
    "from datetime import datetime, timedelta\n",
    "import os"
   ]
  },
  {
   "cell_type": "code",
   "execution_count": 39,
   "id": "13f7a3ad",
   "metadata": {},
   "outputs": [],
   "source": [
    "import time\n",
    "import datetime\n",
    "timestamp = datetime.datetime.now().strftime('%d_%m_%Y_%H_%M_%S')\n",
    "from datetime import datetime, timedelta\n",
    "import os\n",
    "\n",
    "def Logger(log_path, log_filename,  input_string):\n",
    "  \n",
    "    filename = \"\\\\\" + log_filename + datetime.now().strftime('%Y%m%d') + \".log\"        #20210601\n",
    "  \n",
    "    output_string = \"\\n\" + datetime.now().strftime(\"%d-%b-%Y %H:%M:%S\") + \", \" + input_string + '\\n'\n",
    "  \n",
    "    f = open(log_path + filename, \"a\")\n",
    "    f.write(output_string)\n",
    "    f.close()\n",
    "  \n",
    "    d = datetime.today() - timedelta(days = 30)\n",
    "    old_filename_path = log_path + \"\\\\\" + log_filename + d.strftime('%Y%m%d') + \".log\"\n",
    "  \n",
    "    if os.path.exists(old_filename_path):\n",
    "          os.remove(old_filename_path)\n",
    "    else:\n",
    "         pass\n"
   ]
  },
  {
   "cell_type": "code",
   "execution_count": 34,
   "id": "4d6100ae",
   "metadata": {},
   "outputs": [],
   "source": [
    "log_filename = \"test\"\n",
    "loggerinfo = 'LOGGERINFO'\n",
    "log_path = 'C:/face/pictures'\n",
    "log_retention = \"30\""
   ]
  },
  {
   "cell_type": "code",
   "execution_count": 43,
   "id": "260f8b1f",
   "metadata": {},
   "outputs": [],
   "source": [
    "Logger(log_path, log_filename, \"Step1. log file created.\")"
   ]
  }
 ],
 "metadata": {
  "kernelspec": {
   "display_name": "Python 3",
   "language": "python",
   "name": "python3"
  },
  "language_info": {
   "codemirror_mode": {
    "name": "ipython",
    "version": 3
   },
   "file_extension": ".py",
   "mimetype": "text/x-python",
   "name": "python",
   "nbconvert_exporter": "python",
   "pygments_lexer": "ipython3",
   "version": "3.8.8"
  }
 },
 "nbformat": 4,
 "nbformat_minor": 5
}
